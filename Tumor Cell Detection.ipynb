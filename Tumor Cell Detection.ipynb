{
  "nbformat": 4,
  "nbformat_minor": 0,
  "metadata": {
    "kernelspec": {
      "display_name": "Python 3",
      "language": "python",
      "name": "python3"
    },
    "language_info": {
      "codemirror_mode": {
        "name": "ipython",
        "version": 3
      },
      "file_extension": ".py",
      "mimetype": "text/x-python",
      "name": "python",
      "nbconvert_exporter": "python",
      "pygments_lexer": "ipython3",
      "version": "3.6.5"
    },
    "colab": {
      "name": "Machine_learning_Assignment_2_Partha_Pratim_Saha_218047874.ipynb",
      "provenance": [],
      "collapsed_sections": []
    }
  },
  "cells": [
    {
      "cell_type": "code",
      "metadata": {
        "id": "rSRaUk_ZlxF0",
        "colab_type": "code",
        "colab": {}
      },
      "source": [
        "import numpy as np\n",
        "import pandas as pd\n",
        "import matplotlib.pyplot as plt\n"
      ],
      "execution_count": 0,
      "outputs": []
    },
    {
      "cell_type": "markdown",
      "metadata": {
        "id": "J0_1FOHtlxF7",
        "colab_type": "text"
      },
      "source": [
        "# Task A (1.1)\n",
        "#Read the Training and Testing data"
      ]
    },
    {
      "cell_type": "code",
      "metadata": {
        "scrolled": true,
        "id": "-8oP92khlxF9",
        "colab_type": "code",
        "colab": {},
        "outputId": "b704166e-349c-4f43-ceb0-81ec6aaab1e1"
      },
      "source": [
        "# Task A (1.1)\n",
        "#Read the Training and Testing data\n",
        "Train = pd.read_csv('train_wbcd.csv', delimiter=',')\n",
        "Test = pd.read_csv('test_wbcd.csv', delimiter=',')\n",
        "print(\"Test shape: {}\".format(Test.shape))\n",
        "print(\"Train shape: {}\".format(Train.shape))\n",
        "\n",
        "print(\"The number of features in Training Data: {}\".format(Train.shape[1]-2))\n",
        "print(\"The number of features in Testing Data: {}\".format(Test.shape[1]-2))\n",
        "#Train data has 100 rows and 32 columns\n",
        "#Test data has 20 rows and 32 columns"
      ],
      "execution_count": 0,
      "outputs": [
        {
          "output_type": "stream",
          "text": [
            "Test shape: (20, 32)\n",
            "Train shape: (100, 32)\n",
            "The number of features in Training Data: 30\n",
            "The number of features in Testing Data: 30\n"
          ],
          "name": "stdout"
        }
      ]
    },
    {
      "cell_type": "markdown",
      "metadata": {
        "id": "kyFtZXp1lxGD",
        "colab_type": "text"
      },
      "source": [
        "# Total Number of 0 and 1 in train and test data"
      ]
    },
    {
      "cell_type": "code",
      "metadata": {
        "id": "05zIV05tlxGE",
        "colab_type": "code",
        "colab": {},
        "outputId": "d3b63a9a-2a0e-44ae-abe6-9eb776c856c7"
      },
      "source": [
        "#Total number of 0 and 1 for label train data\n",
        "Train=Train.replace('B',0)\n",
        "Train=Train.replace('M',1)\n",
        "Train['Diagnosis'].value_counts()\n",
        "#Replacing B as 0 and M as 1"
      ],
      "execution_count": 0,
      "outputs": [
        {
          "output_type": "execute_result",
          "data": {
            "text/plain": [
              "0    58\n",
              "1    42\n",
              "Name: Diagnosis, dtype: int64"
            ]
          },
          "metadata": {
            "tags": []
          },
          "execution_count": 265
        }
      ]
    },
    {
      "cell_type": "code",
      "metadata": {
        "id": "Osp3_oyFlxGI",
        "colab_type": "code",
        "colab": {},
        "outputId": "96b5b78a-f0c5-4271-9223-9788167bf68c"
      },
      "source": [
        "plt.hist(Train['Diagnosis'])\n",
        "#The Training data is balanced. There's not much difference between 0 and 1."
      ],
      "execution_count": 0,
      "outputs": [
        {
          "output_type": "execute_result",
          "data": {
            "text/plain": [
              "(array([58.,  0.,  0.,  0.,  0.,  0.,  0.,  0.,  0., 42.]),\n",
              " array([0. , 0.1, 0.2, 0.3, 0.4, 0.5, 0.6, 0.7, 0.8, 0.9, 1. ]),\n",
              " <a list of 10 Patch objects>)"
            ]
          },
          "metadata": {
            "tags": []
          },
          "execution_count": 266
        },
        {
          "output_type": "display_data",
          "data": {
            "image/png": "[encoded data removed]",
            "text/plain": [
              "<Figure size 432x288 with 1 Axes>"
            ]
          },
          "metadata": {
            "tags": []
          }
        }
      ]
    },
    {
      "cell_type": "code",
      "metadata": {
        "id": "vIo-ixjulxGN",
        "colab_type": "code",
        "colab": {},
        "outputId": "82c9be39-d651-468f-81c8-d0a51347e462"
      },
      "source": [
        "#Total number of 0 and 1 for label test data\n",
        "Test=Test.replace('B',0)\n",
        "Test=Test.replace('M',1)\n",
        "Test['Diagnosis'].value_counts()\n",
        "#Replacing B as 0 and M as 1"
      ],
      "execution_count": 0,
      "outputs": [
        {
          "output_type": "execute_result",
          "data": {
            "text/plain": [
              "0    14\n",
              "1     6\n",
              "Name: Diagnosis, dtype: int64"
            ]
          },
          "metadata": {
            "tags": []
          },
          "execution_count": 267
        }
      ]
    },
    {
      "cell_type": "code",
      "metadata": {
        "id": "-dfJSmc1lxGR",
        "colab_type": "code",
        "colab": {},
        "outputId": "e4cbb0de-24ec-45cb-e656-0a664da6bd95"
      },
      "source": [
        "plt.hist(Test['Diagnosis'])\n",
        "#The data is highly unbalanced between 0 and 1. 1 seems much low in comparison to 0. So, the data is not balanced."
      ],
      "execution_count": 0,
      "outputs": [
        {
          "output_type": "execute_result",
          "data": {
            "text/plain": [
              "(array([14.,  0.,  0.,  0.,  0.,  0.,  0.,  0.,  0.,  6.]),\n",
              " array([0. , 0.1, 0.2, 0.3, 0.4, 0.5, 0.6, 0.7, 0.8, 0.9, 1. ]),\n",
              " <a list of 10 Patch objects>)"
            ]
          },
          "metadata": {
            "tags": []
          },
          "execution_count": 268
        },
        {
          "output_type": "display_data",
          "data": {
            "image/png": "[encoded data removed]",
            "text/plain": [
              "<Figure size 432x288 with 1 Axes>"
            ]
          },
          "metadata": {
            "tags": []
          }
        }
      ]
    },
    {
      "cell_type": "markdown",
      "metadata": {
        "id": "rUHgh75alxGV",
        "colab_type": "text"
      },
      "source": [
        "# Finding the missing values"
      ]
    },
    {
      "cell_type": "code",
      "metadata": {
        "id": "AfFf2C19lxGW",
        "colab_type": "code",
        "colab": {},
        "outputId": "ff1978d1-446a-4220-baee-67334e9665e4"
      },
      "source": [
        "#Missing value columns for Train Data\n",
        "Missing_value_count_by_column_Train=Train.isnull().sum()\n",
        "print(Missing_value_count_by_column_Train[Missing_value_count_by_column_Train >0])\n",
        "# In f21 column of training data there is two missing value."
      ],
      "execution_count": 0,
      "outputs": [
        {
          "output_type": "stream",
          "text": [
            "f21    2\n",
            "dtype: int64\n"
          ],
          "name": "stdout"
        }
      ]
    },
    {
      "cell_type": "code",
      "metadata": {
        "id": "NzjheInLlxGa",
        "colab_type": "code",
        "colab": {},
        "outputId": "103f549b-ea4c-4aaf-f2c2-16c60faeee65"
      },
      "source": [
        "#Missing value Columns for Test Data\n",
        "Missing_value_count_by_column_Test=Test.isnull().sum()\n",
        "print(Missing_value_count_by_column_Test[Missing_value_count_by_column_Test >0])\n",
        "#In f21 column of testing data there is one missing value."
      ],
      "execution_count": 0,
      "outputs": [
        {
          "output_type": "stream",
          "text": [
            "f21    1\n",
            "dtype: int64\n"
          ],
          "name": "stdout"
        }
      ]
    },
    {
      "cell_type": "code",
      "metadata": {
        "id": "L_Sq01wIlxGg",
        "colab_type": "code",
        "colab": {}
      },
      "source": [
        "#Replace Missing values with median\n",
        "meadian_value_Train=Train['f21'].median()\n",
        "Train['f21']=Train['f21'].fillna(meadian_value_Train)\n",
        "\n",
        "meadian_value_Test=Test['f21'].median()\n",
        "Test['f21']=Test['f21'].fillna(meadian_value_Test)\n",
        "#For training and testing data the value is replaced using the median"
      ],
      "execution_count": 0,
      "outputs": []
    },
    {
      "cell_type": "code",
      "metadata": {
        "id": "IoSFoqqLlxGk",
        "colab_type": "code",
        "colab": {}
      },
      "source": [
        "#Normalization with maximum-minimum/(maximum-minimum)\n",
        "\n",
        "Norm_Train = Train.iloc[:,2:]\n",
        "Train.iloc[:,2:] = (Norm_Train - Norm_Train.min()) / (Norm_Train.max() - Norm_Train.min())\n",
        "\n",
        "Norm_Test = Test.iloc[:,2:]\n",
        "Test.iloc[:,2:] = (Norm_Test - Norm_Test.min()) / (Norm_Test.max() - Norm_Test.min())"
      ],
      "execution_count": 0,
      "outputs": []
    },
    {
      "cell_type": "markdown",
      "metadata": {
        "id": "5sB5N3sVlxGn",
        "colab_type": "text"
      },
      "source": [
        "# 1.2 Logistic Regression Train Logistic regression models"
      ]
    },
    {
      "cell_type": "code",
      "metadata": {
        "scrolled": true,
        "id": "Ggzhmm91lxGo",
        "colab_type": "code",
        "colab": {},
        "outputId": "77444919-99a6-455b-98ba-9e7ee9beba34"
      },
      "source": [
        "#Logistic regression using Lambda as 0.1\n",
        "Dtrain =Train\n",
        "Dtest = Test\n",
        "predictors = ['f1','f2','f3','f4','f5','f6','f7','f8','f9','f10','f11','f12','f13','f14','f15','f16','f17','f18','f19','f20','f21','f22','f23','f24','f25','f26','f27','f28','f29','f30']\n",
        "response = ['Diagnosis']\n",
        "\n",
        "\n",
        "from sklearn.linear_model import LogisticRegression\n",
        "from sklearn.metrics import accuracy_score\n",
        "from sklearn.metrics import precision_score\n",
        "from sklearn.metrics import f1_score\n",
        "from sklearn.metrics import confusion_matrix\n",
        "\n",
        "lambda_val = 0.1\n",
        "#Initialize the Logitic regression model with l2 penalty\n",
        "lr_with_lambda = LogisticRegression(C=1/lambda_val, penalty='l2')\n",
        "lr_with_lambda.fit(Dtrain[predictors], Dtrain['Diagnosis'])\n",
        "y_predict_with_lambda = lr_with_lambda.predict(Dtest[predictors])\n",
        "\n",
        "#Evaluate our model\n",
        "model_acc_with_lambda = accuracy_score(y_predict_with_lambda, Dtest['Diagnosis'])\n",
        "model_precision_with_lambda= precision_score(y_predict_with_lambda, Dtest['Diagnosis'])\n",
        "model_F1_score_with_lambda= f1_score(y_predict_with_lambda, Dtest['Diagnosis'])\n",
        "model_confusion_matrix_with_lambda= confusion_matrix(y_predict_with_lambda, Dtest['Diagnosis'])\n",
        "print(\"Model Accuracy with lambda is: {}\".format(model_acc))\n",
        "print(\"Model Precision with lambda is:{}\".format(model_precision))\n",
        "print(\"Model F1_score with lambda is:{}\".format(model_F1_score))\n",
        "print(\"Model confusion_matrix with lambda is:\\n{}\".format(model_confusion_matrix))\n",
        "\n",
        "#The accuracy seems better but in terms of precision it's not good. Its prediciting more false positive\n",
        "# In the accuracy matrix false positive seems high\n",
        "#The F1 score is the weighted average of accuracy and precision. So,it shows slightly better result."
      ],
      "execution_count": 0,
      "outputs": [
        {
          "output_type": "stream",
          "text": [
            "Model Accuracy with lambda is: 0.95\n",
            "Model Precision with lambda is:0.3333333333333333\n",
            "Model F1_score with lambda is:0.5\n",
            "Model confusion_matrix with lambda is:\n",
            "[[14  4]\n",
            " [ 0  2]]\n"
          ],
          "name": "stdout"
        }
      ]
    },
    {
      "cell_type": "code",
      "metadata": {
        "id": "nXzsN3M9lxGs",
        "colab_type": "code",
        "colab": {},
        "outputId": "26087215-bd28-497b-b3b8-47c29bec3b9e"
      },
      "source": [
        "#Logistic regression using alpha 0.1\n",
        "Dtrain =Train\n",
        "Dtest = Test\n",
        "predictors = ['f1','f2','f3','f4','f5','f6','f7','f8','f9','f10','f11','f12','f13','f14','f15','f16','f17','f18','f19','f20','f21','f22','f23','f24','f25','f26','f27','f28','f29','f30']\n",
        "response = ['Diagnosis']\n",
        "alpha_val = 0.1\n",
        "#Initialize the Logitic regression model with l2 penalty\n",
        "lr_with_alpha = LogisticRegression(C=1/alpha_val, penalty='l1')\n",
        "lr_with_alpha.fit(Dtrain[predictors], Dtrain['Diagnosis'])\n",
        "y_predict_with_alpha = lr_with_alpha.predict(Dtest[predictors])\n",
        "\n",
        "#Evaluate our model\n",
        "model_acc_with_alpha = accuracy_score(y_predict_with_alpha, Dtest['Diagnosis'])\n",
        "model_precision_with_alpha= precision_score(y_predict_with_alpha, Dtest['Diagnosis'])\n",
        "model_F1_score_with_alpha= f1_score(y_predict_with_alpha, Dtest['Diagnosis'])\n",
        "model_confusion_matrix_with_alpha= confusion_matrix(y_predict_with_alpha, Dtest['Diagnosis'])\n",
        "print(\"Model Accuracy with alpha: {}\".format(model_acc))\n",
        "print(\"Model Precision with alpha:{}\".format(model_precision))\n",
        "print(\"Model F1_score with aplpha:{}\".format(model_F1_score))\n",
        "print(\"Model confusion_matrix with alpha:\\n{}\".format(model_confusion_matrix))\n",
        "#The accuracy seems better but precision score is not good.\n",
        "# In the accuracy matrix false positive seems high\n",
        "#The F1 score is the weighted average of accuracy and precision. So,it shows slightly better result."
      ],
      "execution_count": 0,
      "outputs": [
        {
          "output_type": "stream",
          "text": [
            "Model Accuracy with alpha: 0.95\n",
            "Model Precision with alpha:0.3333333333333333\n",
            "Model F1_score with aplpha:0.5\n",
            "Model confusion_matrix with alpha:\n",
            "[[14  4]\n",
            " [ 0  2]]\n"
          ],
          "name": "stdout"
        }
      ]
    },
    {
      "cell_type": "code",
      "metadata": {
        "id": "f_f3kg-OlxGw",
        "colab_type": "code",
        "colab": {},
        "outputId": "b90b87a2-9d7f-4208-d710-cec4c89752e6"
      },
      "source": [
        "#Logistc regression using alpha 0.1 and lambda 0.1\n",
        "Dtrain =Train\n",
        "Dtest = Test\n",
        "predictors = ['f1','f2','f3','f4','f5','f6','f7','f8','f9','f10','f11','f12','f13','f14','f15','f16','f17','f18','f19','f20','f21','f22','f23','f24','f25','f26','f27','f28','f29','f30']\n",
        "response = ['Diagnosis']\n",
        "alpha_val = 0.1\n",
        "enet_B = SGDClassifier(loss='log', penalty='elasticnet', alpha=alpha_val, l1_ratio=0.5, max_iter=1000) \n",
        "enet_B.fit(Dtrain[predictors], Dtrain[response].values.reshape((Dtrain[response].shape[0],)))\n",
        "y_predict_B = enet_B.predict(Dtest[predictors])\n",
        "enet_acc = accuracy_score(y_predict_B, Dtest[response])\n",
        "model_precision= precision_score(y_predict_B, Dtest['Diagnosis'])\n",
        "model_F1_score= f1_score(y_predict_B, Dtest['Diagnosis'])\n",
        "model_confusion_matrix= confusion_matrix(y_predict_B, Dtest['Diagnosis'])\n",
        "print(\"Model accuracy with alpha 0.1 and lambda 0.1: {}\".format(enet_acc))\n",
        "print(\"Model Precision with alpha 0.1 and lambda 0.1:{}\".format(model_precision))\n",
        "print(\"Model F1_score with alpha 0.1 and lambda 0.1:{}\".format(model_F1_score))\n",
        "print(\"Model confusion_matrix with alpha 0.1 and lambda 0.1:\\n{}\".format(model_confusion_matrix))\n",
        "#when we use alpha and lambda together the precision provides better result from before that's why the F1 score is also increased \n",
        "#But from the confusion matrix it seems that it's providing more false positive that's why accuracy score came down"
      ],
      "execution_count": 0,
      "outputs": [
        {
          "output_type": "stream",
          "text": [
            "Model accuracy with alpha 0.1 and lambda 0.1: 0.85\n",
            "Model Precision with alpha 0.1 and lambda 0.1:0.5\n",
            "Model F1_score with alpha 0.1 and lambda 0.1:0.6666666666666666\n",
            "Model confusion_matrix with alpha 0.1 and lambda 0.1:\n",
            "[[14  3]\n",
            " [ 0  3]]\n"
          ],
          "name": "stdout"
        }
      ]
    },
    {
      "cell_type": "markdown",
      "metadata": {
        "id": "881CaX0UlxG0",
        "colab_type": "text"
      },
      "source": [
        "# 1.3 Choosing the best hyper-parameter"
      ]
    },
    {
      "cell_type": "code",
      "metadata": {
        "id": "F8yOyi6QlxG1",
        "colab_type": "code",
        "colab": {}
      },
      "source": [
        "#Choosing the best hyper parameter\n",
        "Dtrain =Train\n",
        "Dtest = Test\n",
        "predictors = ['f1','f2','f3','f4','f5','f6','f7','f8','f9','f10','f11','f12','f13','f14','f15','f16','f17','f18','f19','f20','f21','f22','f23','f24','f25','f26','f27','f28','f29','f30']\n",
        "response = ['Diagnosis']\n",
        "from sklearn.model_selection import train_test_split\n",
        "def runLRmodel(trials, data, predictors, label, penalty_type, penalty_score):\n",
        "\n",
        "   model_acc     = 0\n",
        "   model_weights = np.zeros([1,3])\n",
        "   \n",
        "   for i in range(0,trials):\n",
        "      Dtrain, Dtest = train_test_split(data, test_size=0.3)\n",
        "      lr = LogisticRegression(C=1/penalty_score, penalty=penalty_type)\n",
        "      lr.fit(Dtrain[predictors], Dtrain[label])\n",
        "      y_predict = lr.predict(Dtest[predictors])\n",
        "      model_acc += accuracy_score(y_predict, Dtest[label])\n",
        "          \n",
        "   model_acc /= trials\n",
        "\n",
        "\n",
        "   return np.round(model_acc, decimals=2), np.round(model_weights,decimals=2)"
      ],
      "execution_count": 0,
      "outputs": []
    },
    {
      "cell_type": "code",
      "metadata": {
        "id": "yMkYYMSGlxG5",
        "colab_type": "code",
        "colab": {},
        "outputId": "4736e697-8c30-44bf-b801-0ec36f319699"
      },
      "source": [
        "#Best Lambda\n",
        "lambda_vals = [.01,.03,.1,.3,1,3,10,33,.001,.003,]\n",
        "l2_acc = np.zeros(len(lambda_vals))\n",
        "index = 0\n",
        "#L2 regularization\n",
        "for l in lambda_vals:\n",
        "   l2_acc[index], w = runLRmodel(100,Train, predictors, 'Diagnosis', 'l2', np.float(l))\n",
        "   index += 1\n",
        "\n",
        "\n",
        "print(\"Acc: {}\".format(l2_acc))\n",
        "\n",
        "# penalty at which validation accuracy is maximum\n",
        "max_index_l2  = np.argmax(l2_acc)\n",
        " \n",
        "best_lambda = lambda_vals[max_index_l2]\n",
        "\n",
        "print(\"Best Lambda: {}\".format(best_lambda))\n",
        "#the best lambda is 0.001,o .03 and .01 as all provides the best accuracy result"
      ],
      "execution_count": 0,
      "outputs": [
        {
          "output_type": "stream",
          "text": [
            "Acc: [0.98 0.98 0.98 0.96 0.95 0.93 0.91 0.85 0.99 0.98]\n",
            "Best Lambda: 0.001\n"
          ],
          "name": "stdout"
        }
      ]
    },
    {
      "cell_type": "code",
      "metadata": {
        "id": "Sij9xBSWlxG9",
        "colab_type": "code",
        "colab": {},
        "outputId": "3d3e15f7-3b6b-405b-a98a-70e501552586"
      },
      "source": [
        "#Best Alpha\n",
        "alpha_vals = [0.1,1,3,10,33,100,333,1000,3333,10000,33333]\n",
        "l1_acc = np.zeros(len(alpha_vals))\n",
        "index = 0\n",
        "#L2 regularization\n",
        "for l in alpha_vals:\n",
        "   l1_acc[index], w = runLRmodel(100,Train, predictors, 'Diagnosis', 'l1', np.float(l))\n",
        "   index += 1\n",
        "\n",
        "print(\"Acc: {}\".format(l1_acc))\n",
        "# penalty at which validation accuracy is maximum\n",
        "max_index_l1  = np.argmax(l1_acc)\n",
        "best_alpha = alpha_vals[max_index_l1]\n",
        "print(\"Best Alpha: {}\".format(best_alpha))\n",
        "#The best alpha value is 0.1 as it provides the best accuracy result"
      ],
      "execution_count": 0,
      "outputs": [
        {
          "output_type": "stream",
          "text": [
            "Acc: [0.96 0.94 0.91 0.91 0.89 0.89 0.89 0.43 0.41 0.45 0.58]\n",
            "Best Alpha: 0.1\n"
          ],
          "name": "stdout"
        }
      ]
    },
    {
      "cell_type": "code",
      "metadata": {
        "id": "MfZX15NXlxHA",
        "colab_type": "code",
        "colab": {},
        "outputId": "d9fe3741-af37-4f22-d4e1-b6b4c915088f"
      },
      "source": [
        "#Logistc regression using alpha 0.1 and lambda 0.1\n",
        "from sklearn.linear_model import SGDClassifier \n",
        "Dtrain =Train\n",
        "Dtest = Test\n",
        "predictors = ['f1','f2','f3','f4','f5','f6','f7','f8','f9','f10','f11','f12','f13','f14','f15','f16','f17','f18','f19','f20','f21','f22','f23','f24','f25','f26','f27','f28','f29','f30']\n",
        "response = ['Diagnosis']\n",
        "\n",
        "\n",
        "alpha_val = 0.1\n",
        "\n",
        "enet = SGDClassifier(loss='log', penalty='elasticnet', alpha=alpha_val, l1_ratio=.50, max_iter=1000) \n",
        "enet.fit(Dtrain[predictors], Dtrain[response].values.reshape((Dtrain[response].shape[0],)))\n",
        "y_predict = enet.predict(Dtest[predictors])\n",
        "enet_acc = accuracy_score(y_predict, Dtest[response])\n",
        "model_precision= precision_score(y_predict, Dtest['Diagnosis'])\n",
        "model_confusion_matrix= confusion_matrix(y_predict, Dtest['Diagnosis'])\n",
        "print(\"Acc: {}\".format(enet_acc))\n",
        "print(\"Model Precision is:{}\".format(model_precision))\n",
        "print(\"Model confusion_matrix is:{}\".format(model_confusion_matrix))\n",
        "\n",
        "#top five feature selection in decreasing order\n",
        "\n",
        "feature_weights_lambda=enet.coef_[0]\n",
        "Weight_matrix_lambda = pd.DataFrame()\n",
        "Weight_matrix_lambda['Feature'] = pd.Series(predictors)\n",
        "Weight_matrix_lambda['Weights'] = pd.Series(feature_weights_lambda,name= \"Weights\")\n",
        "Weight_matrix_lambda['Abs Weights'] = abs(Weight_matrix_lambda['Weights'])\n",
        "a = np.sort(Weight_matrix_lambda['Abs Weights'])[::-1]\n",
        "print(\"Top five features are:{}\".format(a[:5]))\n",
        "# alpha value and lambda value are used as 0.5. the accuracy is 85% as it provides some false positive result \n",
        "#The precision is also not good.\n",
        "#It seems a overfitting model as the accuracy level comes down from before."
      ],
      "execution_count": 0,
      "outputs": [
        {
          "output_type": "stream",
          "text": [
            "Acc: 0.85\n",
            "Model Precision is:0.5\n",
            "Model confusion_matrix is:[[14  3]\n",
            " [ 0  3]]\n",
            "Top five features are:[0.50081288 0.31740226 0.31321656 0.23262087 0.20295856]\n"
          ],
          "name": "stdout"
        }
      ]
    },
    {
      "cell_type": "markdown",
      "metadata": {
        "id": "AMdjk5kalxHE",
        "colab_type": "text"
      },
      "source": [
        "# TASK B 2.1-1"
      ]
    },
    {
      "cell_type": "code",
      "metadata": {
        "scrolled": true,
        "id": "Z3GmO632lxHF",
        "colab_type": "code",
        "colab": {},
        "outputId": "09bef0aa-a981-4d6a-ddb1-6e1390b4448c"
      },
      "source": [
        "\n",
        "import numpy as np\n",
        "import matplotlib.pyplot as plt\n",
        "from sklearn.model_selection import train_test_split\n",
        "minist = pd.read_csv('reduced_mnist.csv', delimiter=',')\n",
        "\n",
        "print(\"The number of features for Minist are: {}\".format(minist.shape[1]-1))\n",
        "\n",
        "\n",
        "\n",
        "#print the unique labels in y\n",
        "y=minist['label']\n",
        "print (\"unique labels: {}\".format(np.unique(y)))\n",
        "\n",
        "#the number of rows\n",
        "Count_Row=minist.shape[0]\n",
        "print(\"the number of rows are: {}\".format(Count_Row))"
      ],
      "execution_count": 0,
      "outputs": [
        {
          "output_type": "stream",
          "text": [
            "The number of features for Minist are: 784\n",
            "unique labels: [0 1 2 3 4 5 6 7 8 9]\n",
            "the number of rows are: 2520\n"
          ],
          "name": "stdout"
        }
      ]
    },
    {
      "cell_type": "markdown",
      "metadata": {
        "id": "JVcO-NjelxHJ",
        "colab_type": "text"
      },
      "source": [
        "# TASK B 2.1-2"
      ]
    },
    {
      "cell_type": "code",
      "metadata": {
        "id": "Ij0_v3JFlxHK",
        "colab_type": "code",
        "colab": {}
      },
      "source": [
        "\n",
        "Label=minist['label']\n",
        "Pexil=minist.loc[:,'pixel0':'pixel783']\n",
        "\n",
        "#split\n",
        "xtrain, xtest, ytrain, ytest = train_test_split(Pexil, Label, test_size=0.3)\n"
      ],
      "execution_count": 0,
      "outputs": []
    },
    {
      "cell_type": "code",
      "metadata": {
        "id": "0MBtdaHdlxHO",
        "colab_type": "code",
        "colab": {},
        "outputId": "f955dab9-a1d1-4288-f1ae-5d7034693308"
      },
      "source": [
        "from sklearn.linear_model import SGDClassifier \n",
        "from sklearn import datasets\n",
        "from sklearn.multiclass import OneVsRestClassifier\n",
        "from sklearn.metrics import recall_score\n",
        "from sklearn import datasets\n",
        "from sklearn.multiclass import OneVsRestClassifier\n",
        "\n",
        "from sklearn.linear_model import SGDClassifier \n",
        "\n",
        "alpha_val = 1\n",
        "\n",
        "OVR = OneVsRestClassifier(LogisticRegression(penalty='l1',C = 1/alpha_val, random_state=2018))\n",
        "OVR.fit(xtrain,ytrain)\n",
        "\n",
        "Pred_OVR = OVR.predict(xtest)\n",
        "\n",
        "OVR_accuracy=accuracy_score(ytest,Pred_OVR)\n",
        "OVR_precision=precision_score(ytest,Pred_OVR,average='weighted')\n",
        "OVR_recall=recall_score(ytest,Pred_OVR,average='weighted')\n",
        "\n",
        "print(\"OVR Accuracy is: {}\".format(OVR_accuracy))\n",
        "print(\"OVR Precision is: {}\".format(OVR_precision))\n",
        "print(\"OVR Recall is: {}\".format(OVR_recall))\n",
        "#The accuracy, precision and recall seems a good result. they are all above 85%"
      ],
      "execution_count": 0,
      "outputs": [
        {
          "output_type": "stream",
          "text": [
            "OVR Accuracy is: 0.8558201058201058\n",
            "OVR Precision is: 0.8592739760591119\n",
            "OVR Recall is: 0.8558201058201058\n"
          ],
          "name": "stdout"
        }
      ]
    },
    {
      "cell_type": "markdown",
      "metadata": {
        "id": "M_8VxxxalxHU",
        "colab_type": "text"
      },
      "source": [
        "# 2.2 Choosing the best hyper-parameters"
      ]
    },
    {
      "cell_type": "code",
      "metadata": {
        "id": "Vzm68ZtalxHV",
        "colab_type": "code",
        "colab": {}
      },
      "source": [
        "\n",
        "from sklearn.model_selection import train_test_split\n",
        "\n",
        "minist_train, minist_test= train_test_split(minist, test_size=0.3)\n",
        "minist_test_y=minist_test['label']\n",
        "minist_test_x=minist_test.loc[:,'pixel0':'pixel783']\n",
        "minist_train_y=minist_train['label']\n",
        "minist_train_x=minist_train.loc[:,'pixel0':'pixel783']"
      ],
      "execution_count": 0,
      "outputs": []
    },
    {
      "cell_type": "code",
      "metadata": {
        "id": "Hukm4PmnlxHZ",
        "colab_type": "code",
        "colab": {}
      },
      "source": [
        "#Choosing the best hyper parameter\n",
        "\n",
        "from sklearn.model_selection import train_test_split\n",
        "def runOVRmodel(trials, train_data, penalty_type, penalty_score):\n",
        "\n",
        "   train_acc     = 0\n",
        "   val_acc       = 0\n",
        "   for i in range(0,trials):\n",
        "      Dtrain, Dtest,= train_test_split(train_data, test_size=0.3)\n",
        "      OVR = OneVsRestClassifier(LogisticRegression(C = 1/penalty_score,penalty=penalty_type,))\n",
        "      OVR.fit(Dtrain.iloc[:,1:785],Dtrain.iloc[:,0:1])\n",
        "      Pred_OVR_test = OVR.predict(minist_test_x)\n",
        "      Pred_OVR_train = OVR.predict(minist_train_x)\n",
        "      val_acc += accuracy_score(Pred_OVR_test, minist_test_y)\n",
        "      train_acc += accuracy_score(Pred_OVR_train, minist_train_y)\n",
        "   val_acc /= trials       \n",
        "   train_acc /= trials\n",
        "\n",
        "\n",
        "   return np.round(model_acc, decimals=2), np.round(val_acc,decimals=2)"
      ],
      "execution_count": 0,
      "outputs": []
    },
    {
      "cell_type": "code",
      "metadata": {
        "id": "iPPMScFjlxHe",
        "colab_type": "code",
        "colab": {},
        "outputId": "8889345f-d214-44a8-e13e-34b5cdeefdc5"
      },
      "source": [
        "#Best Alpha\n",
        "alpha_vals = [0.1, 1, 3, 10, 33, 100, 333, 1000, 3333, 10000, 33333]\n",
        "\n",
        "Train_acc=np.zeros(len(alpha_vals))\n",
        "val_acc= np.zeros(len(alpha_vals))\n",
        "index = 0\n",
        "#L1 regularization\n",
        "for l in alpha_vals:\n",
        "    Train_acc[index],val_acc[index]   = runOVRmodel(10,train_data=minist_train,penalty_type='l1', penalty_score=np.float(l))\n",
        "    index += 1\n",
        "\n",
        "print(\"Train_Acc: {}\".format(Train_acc))\n",
        "print(\"Validation_Acc: {}\".format(val_acc))\n",
        "# penalty at which validation accuracy is maximum\n",
        "max_index_l1  = np.argmax(val_acc)\n",
        "best_alpha = alpha_vals[max_index_l1]\n",
        "print(\"Best Alpha: {}\".format(best_alpha))\n",
        "\n",
        "\n",
        "#plot the accuracy curve\n",
        "plt.plot(range(0,len(alpha_vals)), val_acc, color='b', \n",
        "         label='Validation Accuracy')\n",
        "plt.plot(range(0,len(alpha_vals)), Train_acc, color='r', \n",
        "         label='Training Accuracy')\n",
        "#replace the x-axis labels with penalty values\n",
        "plt.xticks(range(0,len(alpha_vals)), alpha_vals, rotation='vertical')\n",
        "\n",
        "#Highlight the best values of alpha\n",
        "plt.plot((max_index_l1, max_index_l1), (0, val_acc[max_index_l1]), \n",
        "         ls='dotted', color='b')\n",
        "\n",
        "\n",
        "#Set the y-axis from 0 to 1.0\n",
        "axes = plt.gca()\n",
        "axes.set_ylim([0, 1.0])\n",
        "\n",
        "plt.legend(loc=\"lower left\")\n",
        "plt.show()\n",
        "# With the training set it provides the same accuracy but with the validation set the accurcary seems to go down with alpha change\n",
        "#So according to validation accuracy the best alpha is 333 which provides the accuracy of 86%"
      ],
      "execution_count": 0,
      "outputs": [
        {
          "output_type": "stream",
          "text": [
            "Train_Acc: [0.95 0.95 0.95 0.95 0.95 0.95 0.95 0.95 0.95 0.95 0.95]\n",
            "Validation_Acc: [0.84 0.84 0.84 0.84 0.84 0.85 0.86 0.84 0.79 0.67 0.54]\n",
            "Best Alpha: 333\n"
          ],
          "name": "stdout"
        },
        {
          "output_type": "display_data",
          "data": {
            "image/png": "[encoded data removed]",
            "text/plain": [
              "<Figure size 432x288 with 1 Axes>"
            ]
          },
          "metadata": {
            "tags": []
          }
        }
      ]
    },
    {
      "cell_type": "code",
      "metadata": {
        "id": "T7vFXmmalxHk",
        "colab_type": "code",
        "colab": {},
        "outputId": "2cf1034e-1f08-4385-e2ca-53dcd30b22a8"
      },
      "source": [
        "#The final Model\n",
        "minist = pd.read_csv('reduced_mnist.csv', delimiter=',')\n",
        "Label=minist['label']\n",
        "Pexil=minist.loc[:,'pixel0':'pixel783']\n",
        "\n",
        "#split\n",
        "xtrain, xtest, ytrain, ytest = train_test_split(Pexil, Label, test_size=0.3)\n",
        "\n",
        "alpha_val = 333\n",
        "\n",
        "OVR = OneVsRestClassifier(LogisticRegression(penalty='l1',C = 1/alpha_val, random_state=2018))\n",
        "OVR.fit(xtrain,ytrain)\n",
        "\n",
        "Predd_OVR = OVR.predict(xtest)\n",
        "\n",
        "OVR_accuracy=accuracy_score(ytest,Predd_OVR)\n",
        "OVR_precision=precision_score(ytest,Predd_OVR,average='weighted')\n",
        "OVR_recall=recall_score(ytest,Predd_OVR,average='weighted')\n",
        "OVR_Confusion_matrix= confusion_matrix(ytest,Predd_OVR)\n",
        "\n",
        "print(\"OVR Accuracy is: {}\".format(OVR_accuracy))\n",
        "print(\"OVR Precision is: {}\".format(OVR_precision))\n",
        "print(\"OVR Recall is: {}\".format(OVR_recall))\n",
        "print(\"OVR Confusion Matrix is:\\n{}\".format(OVR_Confusion_matrix))\n",
        "\n",
        "#The accuracy seems 88% and precision is also 88% it seems the model is a good fit, The model is not underfitting or overfitting"
      ],
      "execution_count": 0,
      "outputs": [
        {
          "output_type": "stream",
          "text": [
            "OVR Accuracy is: 0.8875661375661376\n",
            "OVR Precision is: 0.8885642273417054\n",
            "OVR Recall is: 0.8875661375661376\n",
            "OVR Confusion Matrix is:\n",
            "[[72  0  1  0  0  0  0  0  0  0]\n",
            " [ 0 78  0  0  0  1  0  0  3  0]\n",
            " [ 0  0 62  1  1  0  3  3  8  0]\n",
            " [ 1  0  0 72  0  4  3  0  2  0]\n",
            " [ 0  0  0  0 63  0  0  1  1  1]\n",
            " [ 2  1  1  7  1 53  1  0  2  1]\n",
            " [ 2  1  1  0  0  1 76  0  1  0]\n",
            " [ 1  1  2  1  0  0  0 75  1  3]\n",
            " [ 0  2  1  2  0  4  0  0 59  2]\n",
            " [ 0  0  1  1  0  1  0  5  1 61]]\n"
          ],
          "name": "stdout"
        }
      ]
    },
    {
      "cell_type": "code",
      "metadata": {
        "id": "dqhF121blxHp",
        "colab_type": "code",
        "colab": {},
        "outputId": "0d0232d6-22a5-4867-9216-a022fdc59113"
      },
      "source": [
        "#top five feature selection in decreasing order\n",
        "\n",
        "feature_weights=OVR.coef_[0]\n",
        "Weight_matrix = pd.DataFrame()\n",
        "Weight_matrix['Feature'] = pd.Series(ytrain)\n",
        "Weight_matrix['Weights'] = pd.Series(feature_weights,name= \"Weights\")\n",
        "a= np.count_nonzero(Weight_matrix['Weights'])\n",
        "print(\"Number of Non zero features:{}\".format(a))\n",
        "#So, the number of non zero features is 1272."
      ],
      "execution_count": 0,
      "outputs": [
        {
          "output_type": "stream",
          "text": [
            "Number of Non zero features:1272\n"
          ],
          "name": "stdout"
        }
      ]
    },
    {
      "cell_type": "code",
      "metadata": {
        "id": "xndImuSklxHt",
        "colab_type": "code",
        "colab": {}
      },
      "source": [
        ""
      ],
      "execution_count": 0,
      "outputs": []
    }
  ]
}